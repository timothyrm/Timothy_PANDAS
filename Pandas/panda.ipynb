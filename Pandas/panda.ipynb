{
 "metadata": {
  "language_info": {
   "codemirror_mode": {
    "name": "ipython",
    "version": 3
   },
   "file_extension": ".py",
   "mimetype": "text/x-python",
   "name": "python",
   "nbconvert_exporter": "python",
   "pygments_lexer": "ipython3",
   "version": "3.8.3"
  },
  "orig_nbformat": 2,
  "kernelspec": {
   "name": "python383jvsc74a57bd0fe2dbafc7bd5ad380c3b5774b6ffac6224a3e97f600733360e641e44ed102b43",
   "display_name": "Python 3.8.3 64-bit ('base': conda)"
  }
 },
 "nbformat": 4,
 "nbformat_minor": 2,
 "cells": [
  {
   "cell_type": "code",
   "execution_count": 3,
   "metadata": {},
   "outputs": [
    {
     "output_type": "execute_result",
     "data": {
      "text/plain": [
       "          sysselsättning     ålder      kön    2019\n",
       "0      förvärvsarbetande  16-19 år      män   58826\n",
       "1      förvärvsarbetande  16-19 år  kvinnor   72847\n",
       "2      förvärvsarbetande  20-24 år      män  192696\n",
       "3      förvärvsarbetande  20-24 år  kvinnor  174074\n",
       "4      förvärvsarbetande  25-29 år      män  293352\n",
       "5      förvärvsarbetande  25-29 år  kvinnor  268587\n",
       "6      förvärvsarbetande  30-34 år      män  303019\n",
       "7      förvärvsarbetande  30-34 år  kvinnor  271975\n",
       "8      förvärvsarbetande  35-39 år      män  280522\n",
       "9      förvärvsarbetande  35-39 år  kvinnor  255391\n",
       "10     förvärvsarbetande  40-44 år      män  275085\n",
       "11     förvärvsarbetande  40-44 år  kvinnor  260093\n",
       "12  ej förvärvsarbetande  16-19 år      män  176860\n",
       "13  ej förvärvsarbetande  16-19 år  kvinnor  143432\n",
       "14  ej förvärvsarbetande  20-24 år      män  117928\n",
       "15  ej förvärvsarbetande  20-24 år  kvinnor  103001\n",
       "16  ej förvärvsarbetande  25-29 år      män   86633\n",
       "17  ej förvärvsarbetande  25-29 år  kvinnor   91124\n",
       "18  ej förvärvsarbetande  30-34 år      män   64162\n",
       "19  ej förvärvsarbetande  30-34 år  kvinnor   76735\n",
       "20  ej förvärvsarbetande  35-39 år      män   53373\n",
       "21  ej förvärvsarbetande  35-39 år  kvinnor   61312\n",
       "22  ej förvärvsarbetande  40-44 år      män   46857\n",
       "23  ej förvärvsarbetande  40-44 år  kvinnor   49228"
      ],
      "text/html": "<div>\n<style scoped>\n    .dataframe tbody tr th:only-of-type {\n        vertical-align: middle;\n    }\n\n    .dataframe tbody tr th {\n        vertical-align: top;\n    }\n\n    .dataframe thead th {\n        text-align: right;\n    }\n</style>\n<table border=\"1\" class=\"dataframe\">\n  <thead>\n    <tr style=\"text-align: right;\">\n      <th></th>\n      <th>sysselsättning</th>\n      <th>ålder</th>\n      <th>kön</th>\n      <th>2019</th>\n    </tr>\n  </thead>\n  <tbody>\n    <tr>\n      <th>0</th>\n      <td>förvärvsarbetande</td>\n      <td>16-19 år</td>\n      <td>män</td>\n      <td>58826</td>\n    </tr>\n    <tr>\n      <th>1</th>\n      <td>förvärvsarbetande</td>\n      <td>16-19 år</td>\n      <td>kvinnor</td>\n      <td>72847</td>\n    </tr>\n    <tr>\n      <th>2</th>\n      <td>förvärvsarbetande</td>\n      <td>20-24 år</td>\n      <td>män</td>\n      <td>192696</td>\n    </tr>\n    <tr>\n      <th>3</th>\n      <td>förvärvsarbetande</td>\n      <td>20-24 år</td>\n      <td>kvinnor</td>\n      <td>174074</td>\n    </tr>\n    <tr>\n      <th>4</th>\n      <td>förvärvsarbetande</td>\n      <td>25-29 år</td>\n      <td>män</td>\n      <td>293352</td>\n    </tr>\n    <tr>\n      <th>5</th>\n      <td>förvärvsarbetande</td>\n      <td>25-29 år</td>\n      <td>kvinnor</td>\n      <td>268587</td>\n    </tr>\n    <tr>\n      <th>6</th>\n      <td>förvärvsarbetande</td>\n      <td>30-34 år</td>\n      <td>män</td>\n      <td>303019</td>\n    </tr>\n    <tr>\n      <th>7</th>\n      <td>förvärvsarbetande</td>\n      <td>30-34 år</td>\n      <td>kvinnor</td>\n      <td>271975</td>\n    </tr>\n    <tr>\n      <th>8</th>\n      <td>förvärvsarbetande</td>\n      <td>35-39 år</td>\n      <td>män</td>\n      <td>280522</td>\n    </tr>\n    <tr>\n      <th>9</th>\n      <td>förvärvsarbetande</td>\n      <td>35-39 år</td>\n      <td>kvinnor</td>\n      <td>255391</td>\n    </tr>\n    <tr>\n      <th>10</th>\n      <td>förvärvsarbetande</td>\n      <td>40-44 år</td>\n      <td>män</td>\n      <td>275085</td>\n    </tr>\n    <tr>\n      <th>11</th>\n      <td>förvärvsarbetande</td>\n      <td>40-44 år</td>\n      <td>kvinnor</td>\n      <td>260093</td>\n    </tr>\n    <tr>\n      <th>12</th>\n      <td>ej förvärvsarbetande</td>\n      <td>16-19 år</td>\n      <td>män</td>\n      <td>176860</td>\n    </tr>\n    <tr>\n      <th>13</th>\n      <td>ej förvärvsarbetande</td>\n      <td>16-19 år</td>\n      <td>kvinnor</td>\n      <td>143432</td>\n    </tr>\n    <tr>\n      <th>14</th>\n      <td>ej förvärvsarbetande</td>\n      <td>20-24 år</td>\n      <td>män</td>\n      <td>117928</td>\n    </tr>\n    <tr>\n      <th>15</th>\n      <td>ej förvärvsarbetande</td>\n      <td>20-24 år</td>\n      <td>kvinnor</td>\n      <td>103001</td>\n    </tr>\n    <tr>\n      <th>16</th>\n      <td>ej förvärvsarbetande</td>\n      <td>25-29 år</td>\n      <td>män</td>\n      <td>86633</td>\n    </tr>\n    <tr>\n      <th>17</th>\n      <td>ej förvärvsarbetande</td>\n      <td>25-29 år</td>\n      <td>kvinnor</td>\n      <td>91124</td>\n    </tr>\n    <tr>\n      <th>18</th>\n      <td>ej förvärvsarbetande</td>\n      <td>30-34 år</td>\n      <td>män</td>\n      <td>64162</td>\n    </tr>\n    <tr>\n      <th>19</th>\n      <td>ej förvärvsarbetande</td>\n      <td>30-34 år</td>\n      <td>kvinnor</td>\n      <td>76735</td>\n    </tr>\n    <tr>\n      <th>20</th>\n      <td>ej förvärvsarbetande</td>\n      <td>35-39 år</td>\n      <td>män</td>\n      <td>53373</td>\n    </tr>\n    <tr>\n      <th>21</th>\n      <td>ej förvärvsarbetande</td>\n      <td>35-39 år</td>\n      <td>kvinnor</td>\n      <td>61312</td>\n    </tr>\n    <tr>\n      <th>22</th>\n      <td>ej förvärvsarbetande</td>\n      <td>40-44 år</td>\n      <td>män</td>\n      <td>46857</td>\n    </tr>\n    <tr>\n      <th>23</th>\n      <td>ej förvärvsarbetande</td>\n      <td>40-44 år</td>\n      <td>kvinnor</td>\n      <td>49228</td>\n    </tr>\n  </tbody>\n</table>\n</div>"
     },
     "metadata": {},
     "execution_count": 3
    }
   ],
   "source": [
    "\n",
    "import pandas as pd \n",
    "import numpy as np \n",
    "import matplotlib.pyplot as plt\n",
    "\n",
    "df = pd.read_csv(\"sysselsattning.csv\", encoding =\"ISO-8859-1\", header=1)\n",
    "df = df.fillna(0)\n",
    "df"
   ]
  },
  {
   "cell_type": "code",
   "execution_count": 6,
   "metadata": {},
   "outputs": [
    {
     "output_type": "execute_result",
     "data": {
      "text/plain": [
       "     1901   Chemistry               The Nobel Prize in Chemistry 1901  \\\n",
       "0    1901  Literature              The Nobel Prize in Literature 1901   \n",
       "1    1901    Medicine  The Nobel Prize in Physiology or Medicine 1901   \n",
       "2    1901       Peace                      The Nobel Peace Prize 1901   \n",
       "3    1901       Peace                      The Nobel Peace Prize 1901   \n",
       "4    1901     Physics                 The Nobel Prize in Physics 1901   \n",
       "..    ...         ...                                             ...   \n",
       "963  2016    Medicine  The Nobel Prize in Physiology or Medicine 2016   \n",
       "964  2016       Peace                      The Nobel Peace Prize 2016   \n",
       "965  2016     Physics                 The Nobel Prize in Physics 2016   \n",
       "966  2016     Physics                 The Nobel Prize in Physics 2016   \n",
       "967  2016     Physics                 The Nobel Prize in Physics 2016   \n",
       "\n",
       "    \"in recognition of the extraordinary services he has rendered by the discovery of the laws of chemical dynamics and osmotic pressure in solutions\"  \\\n",
       "0    \"in special recognition of his poetic composit...                                                                                                   \n",
       "1    \"for his work on serum therapy, especially its...                                                                                                   \n",
       "2                                                    0                                                                                                   \n",
       "3                                                    0                                                                                                   \n",
       "4    \"in recognition of the extraordinary services ...                                                                                                   \n",
       "..                                                 ...                                                                                                   \n",
       "963  \"for his discoveries of mechanisms for autophagy\"                                                                                                   \n",
       "964  \"for his resolute efforts to bring the country...                                                                                                   \n",
       "965  \"for theoretical discoveries of topological ph...                                                                                                   \n",
       "966  \"for theoretical discoveries of topological ph...                                                                                                   \n",
       "967  \"for theoretical discoveries of topological ph...                                                                                                   \n",
       "\n",
       "     1/1  160  Individual Jacobus Henricus van 't Hoff  1852-08-30  \\\n",
       "0    1/1  569  Individual              Sully Prudhomme  1839-03-16   \n",
       "1    1/1  293  Individual       Emil Adolf von Behring  1854-03-15   \n",
       "2    1/2  462  Individual            Jean Henry Dunant  1828-05-08   \n",
       "3    1/2  463  Individual             FrÃ©dÃ©ric Passy  1822-05-20   \n",
       "4    1/1    1  Individual      Wilhelm Conrad RÃ¶ntgen  1845-03-27   \n",
       "..   ...  ...         ...                          ...         ...   \n",
       "963  1/1  927  Individual             Yoshinori Ohsumi  1945-02-09   \n",
       "964  1/1  934  Individual           Juan Manuel Santos  1951-08-10   \n",
       "965  1/2  928  Individual            David J. Thouless  1934-09-21   \n",
       "966  1/4  929  Individual         F. Duncan M. Haldane  1951-09-14   \n",
       "967  1/4  930  Individual        J. Michael Kosterlitz  1943-06-22   \n",
       "\n",
       "              Rotterdam        Netherlands  Male  \\\n",
       "0                 Paris             France  Male   \n",
       "1     Hansdorf (Lawice)   Prussia (Poland)  Male   \n",
       "2                Geneva        Switzerland  Male   \n",
       "3                 Paris             France  Male   \n",
       "4    Lennep (Remscheid)  Prussia (Germany)  Male   \n",
       "..                  ...                ...   ...   \n",
       "963             Fukuoka              Japan  Male   \n",
       "964             BogotÃ¡           Colombia  Male   \n",
       "965            Bearsden     United Kingdom  Male   \n",
       "966              London     United Kingdom  Male   \n",
       "967            Aberdeen     United Kingdom  Male   \n",
       "\n",
       "                 Berlin University          Berlin                   Germany  \\\n",
       "0                                0               0                         0   \n",
       "1               Marburg University         Marburg                   Germany   \n",
       "2                                0               0                         0   \n",
       "3                                0               0                         0   \n",
       "4                Munich University          Munich                   Germany   \n",
       "..                             ...             ...                       ...   \n",
       "963  Tokyo Institute of Technology           Tokyo                     Japan   \n",
       "964                              0               0                         0   \n",
       "965       University of Washington     Seattle, WA  United States of America   \n",
       "966           Princeton University   Princeton, NJ  United States of America   \n",
       "967               Brown University  Providence, RI  United States of America   \n",
       "\n",
       "     1911-03-01   Berlin.1    Germany.1  Total  \n",
       "0    1907-09-07  ChÃ¢tenay       France   2470  \n",
       "1    1917-03-31    Marburg      Germany   2194  \n",
       "2    1910-10-30     Heiden  Switzerland   2363  \n",
       "3    1912-06-12      Paris       France   2364  \n",
       "4    1923-02-10     Munich      Germany   1902  \n",
       "..          ...        ...          ...    ...  \n",
       "963           0          0            0   2943  \n",
       "964           0          0            0   2950  \n",
       "965           0          0            0   2944  \n",
       "966           0          0            0   2945  \n",
       "967           0          0            0   2946  \n",
       "\n",
       "[968 rows x 19 columns]"
      ],
      "text/html": "<div>\n<style scoped>\n    .dataframe tbody tr th:only-of-type {\n        vertical-align: middle;\n    }\n\n    .dataframe tbody tr th {\n        vertical-align: top;\n    }\n\n    .dataframe thead th {\n        text-align: right;\n    }\n</style>\n<table border=\"1\" class=\"dataframe\">\n  <thead>\n    <tr style=\"text-align: right;\">\n      <th></th>\n      <th>1901</th>\n      <th>Chemistry</th>\n      <th>The Nobel Prize in Chemistry 1901</th>\n      <th>\"in recognition of the extraordinary services he has rendered by the discovery of the laws of chemical dynamics and osmotic pressure in solutions\"</th>\n      <th>1/1</th>\n      <th>160</th>\n      <th>Individual</th>\n      <th>Jacobus Henricus van 't Hoff</th>\n      <th>1852-08-30</th>\n      <th>Rotterdam</th>\n      <th>Netherlands</th>\n      <th>Male</th>\n      <th>Berlin University</th>\n      <th>Berlin</th>\n      <th>Germany</th>\n      <th>1911-03-01</th>\n      <th>Berlin.1</th>\n      <th>Germany.1</th>\n      <th>Total</th>\n    </tr>\n  </thead>\n  <tbody>\n    <tr>\n      <th>0</th>\n      <td>1901</td>\n      <td>Literature</td>\n      <td>The Nobel Prize in Literature 1901</td>\n      <td>\"in special recognition of his poetic composit...</td>\n      <td>1/1</td>\n      <td>569</td>\n      <td>Individual</td>\n      <td>Sully Prudhomme</td>\n      <td>1839-03-16</td>\n      <td>Paris</td>\n      <td>France</td>\n      <td>Male</td>\n      <td>0</td>\n      <td>0</td>\n      <td>0</td>\n      <td>1907-09-07</td>\n      <td>ChÃ¢tenay</td>\n      <td>France</td>\n      <td>2470</td>\n    </tr>\n    <tr>\n      <th>1</th>\n      <td>1901</td>\n      <td>Medicine</td>\n      <td>The Nobel Prize in Physiology or Medicine 1901</td>\n      <td>\"for his work on serum therapy, especially its...</td>\n      <td>1/1</td>\n      <td>293</td>\n      <td>Individual</td>\n      <td>Emil Adolf von Behring</td>\n      <td>1854-03-15</td>\n      <td>Hansdorf (Lawice)</td>\n      <td>Prussia (Poland)</td>\n      <td>Male</td>\n      <td>Marburg University</td>\n      <td>Marburg</td>\n      <td>Germany</td>\n      <td>1917-03-31</td>\n      <td>Marburg</td>\n      <td>Germany</td>\n      <td>2194</td>\n    </tr>\n    <tr>\n      <th>2</th>\n      <td>1901</td>\n      <td>Peace</td>\n      <td>The Nobel Peace Prize 1901</td>\n      <td>0</td>\n      <td>1/2</td>\n      <td>462</td>\n      <td>Individual</td>\n      <td>Jean Henry Dunant</td>\n      <td>1828-05-08</td>\n      <td>Geneva</td>\n      <td>Switzerland</td>\n      <td>Male</td>\n      <td>0</td>\n      <td>0</td>\n      <td>0</td>\n      <td>1910-10-30</td>\n      <td>Heiden</td>\n      <td>Switzerland</td>\n      <td>2363</td>\n    </tr>\n    <tr>\n      <th>3</th>\n      <td>1901</td>\n      <td>Peace</td>\n      <td>The Nobel Peace Prize 1901</td>\n      <td>0</td>\n      <td>1/2</td>\n      <td>463</td>\n      <td>Individual</td>\n      <td>FrÃ©dÃ©ric Passy</td>\n      <td>1822-05-20</td>\n      <td>Paris</td>\n      <td>France</td>\n      <td>Male</td>\n      <td>0</td>\n      <td>0</td>\n      <td>0</td>\n      <td>1912-06-12</td>\n      <td>Paris</td>\n      <td>France</td>\n      <td>2364</td>\n    </tr>\n    <tr>\n      <th>4</th>\n      <td>1901</td>\n      <td>Physics</td>\n      <td>The Nobel Prize in Physics 1901</td>\n      <td>\"in recognition of the extraordinary services ...</td>\n      <td>1/1</td>\n      <td>1</td>\n      <td>Individual</td>\n      <td>Wilhelm Conrad RÃ¶ntgen</td>\n      <td>1845-03-27</td>\n      <td>Lennep (Remscheid)</td>\n      <td>Prussia (Germany)</td>\n      <td>Male</td>\n      <td>Munich University</td>\n      <td>Munich</td>\n      <td>Germany</td>\n      <td>1923-02-10</td>\n      <td>Munich</td>\n      <td>Germany</td>\n      <td>1902</td>\n    </tr>\n    <tr>\n      <th>...</th>\n      <td>...</td>\n      <td>...</td>\n      <td>...</td>\n      <td>...</td>\n      <td>...</td>\n      <td>...</td>\n      <td>...</td>\n      <td>...</td>\n      <td>...</td>\n      <td>...</td>\n      <td>...</td>\n      <td>...</td>\n      <td>...</td>\n      <td>...</td>\n      <td>...</td>\n      <td>...</td>\n      <td>...</td>\n      <td>...</td>\n      <td>...</td>\n    </tr>\n    <tr>\n      <th>963</th>\n      <td>2016</td>\n      <td>Medicine</td>\n      <td>The Nobel Prize in Physiology or Medicine 2016</td>\n      <td>\"for his discoveries of mechanisms for autophagy\"</td>\n      <td>1/1</td>\n      <td>927</td>\n      <td>Individual</td>\n      <td>Yoshinori Ohsumi</td>\n      <td>1945-02-09</td>\n      <td>Fukuoka</td>\n      <td>Japan</td>\n      <td>Male</td>\n      <td>Tokyo Institute of Technology</td>\n      <td>Tokyo</td>\n      <td>Japan</td>\n      <td>0</td>\n      <td>0</td>\n      <td>0</td>\n      <td>2943</td>\n    </tr>\n    <tr>\n      <th>964</th>\n      <td>2016</td>\n      <td>Peace</td>\n      <td>The Nobel Peace Prize 2016</td>\n      <td>\"for his resolute efforts to bring the country...</td>\n      <td>1/1</td>\n      <td>934</td>\n      <td>Individual</td>\n      <td>Juan Manuel Santos</td>\n      <td>1951-08-10</td>\n      <td>BogotÃ¡</td>\n      <td>Colombia</td>\n      <td>Male</td>\n      <td>0</td>\n      <td>0</td>\n      <td>0</td>\n      <td>0</td>\n      <td>0</td>\n      <td>0</td>\n      <td>2950</td>\n    </tr>\n    <tr>\n      <th>965</th>\n      <td>2016</td>\n      <td>Physics</td>\n      <td>The Nobel Prize in Physics 2016</td>\n      <td>\"for theoretical discoveries of topological ph...</td>\n      <td>1/2</td>\n      <td>928</td>\n      <td>Individual</td>\n      <td>David J. Thouless</td>\n      <td>1934-09-21</td>\n      <td>Bearsden</td>\n      <td>United Kingdom</td>\n      <td>Male</td>\n      <td>University of Washington</td>\n      <td>Seattle, WA</td>\n      <td>United States of America</td>\n      <td>0</td>\n      <td>0</td>\n      <td>0</td>\n      <td>2944</td>\n    </tr>\n    <tr>\n      <th>966</th>\n      <td>2016</td>\n      <td>Physics</td>\n      <td>The Nobel Prize in Physics 2016</td>\n      <td>\"for theoretical discoveries of topological ph...</td>\n      <td>1/4</td>\n      <td>929</td>\n      <td>Individual</td>\n      <td>F. Duncan M. Haldane</td>\n      <td>1951-09-14</td>\n      <td>London</td>\n      <td>United Kingdom</td>\n      <td>Male</td>\n      <td>Princeton University</td>\n      <td>Princeton, NJ</td>\n      <td>United States of America</td>\n      <td>0</td>\n      <td>0</td>\n      <td>0</td>\n      <td>2945</td>\n    </tr>\n    <tr>\n      <th>967</th>\n      <td>2016</td>\n      <td>Physics</td>\n      <td>The Nobel Prize in Physics 2016</td>\n      <td>\"for theoretical discoveries of topological ph...</td>\n      <td>1/4</td>\n      <td>930</td>\n      <td>Individual</td>\n      <td>J. Michael Kosterlitz</td>\n      <td>1943-06-22</td>\n      <td>Aberdeen</td>\n      <td>United Kingdom</td>\n      <td>Male</td>\n      <td>Brown University</td>\n      <td>Providence, RI</td>\n      <td>United States of America</td>\n      <td>0</td>\n      <td>0</td>\n      <td>0</td>\n      <td>2946</td>\n    </tr>\n  </tbody>\n</table>\n<p>968 rows × 19 columns</p>\n</div>"
     },
     "metadata": {},
     "execution_count": 6
    }
   ],
   "source": [
    "import pandas as pd \n",
    "import numpy as np \n",
    "import matplotlib.pyplot as plt\n",
    "\n",
    "df = pd.read_csv(\"archive.csv\", encoding =\"ISO-8859-1\", header=1)\n",
    "df = df.fillna(0)\n",
    "df[\"Total\"] = df.sum(axis=1)\n",
    "df"
   ]
  },
  {
   "cell_type": "code",
   "execution_count": 9,
   "metadata": {},
   "outputs": [
    {
     "output_type": "error",
     "ename": "AttributeError",
     "evalue": "module 'pandas' has no attribute 'archive'",
     "traceback": [
      "\u001b[1;31m---------------------------------------------------------------------------\u001b[0m",
      "\u001b[1;31mAttributeError\u001b[0m                            Traceback (most recent call last)",
      "\u001b[1;32m<ipython-input-9-668c4ddbddf5>\u001b[0m in \u001b[0;36m<module>\u001b[1;34m\u001b[0m\n\u001b[0;32m      6\u001b[0m \u001b[0mdf\u001b[0m \u001b[1;33m=\u001b[0m \u001b[0mdf\u001b[0m\u001b[1;33m.\u001b[0m\u001b[0mfillna\u001b[0m\u001b[1;33m(\u001b[0m\u001b[1;36m0\u001b[0m\u001b[1;33m)\u001b[0m\u001b[1;33m\u001b[0m\u001b[1;33m\u001b[0m\u001b[0m\n\u001b[0;32m      7\u001b[0m \u001b[1;33m\u001b[0m\u001b[0m\n\u001b[1;32m----> 8\u001b[1;33m \u001b[0mdf\u001b[0m \u001b[1;33m=\u001b[0m \u001b[0mpd\u001b[0m\u001b[1;33m.\u001b[0m\u001b[0marchive\u001b[0m\u001b[1;33m(\u001b[0m\u001b[0mdata\u001b[0m\u001b[1;33m,\u001b[0m\u001b[0mcolumns\u001b[0m\u001b[1;33m=\u001b[0m\u001b[1;33m[\u001b[0m\u001b[1;33m]\u001b[0m\u001b[1;33m)\u001b[0m\u001b[1;33m\u001b[0m\u001b[1;33m\u001b[0m\u001b[0m\n\u001b[0m\u001b[0;32m      9\u001b[0m \u001b[0mdf\u001b[0m\u001b[1;33m.\u001b[0m\u001b[0mplot\u001b[0m\u001b[1;33m(\u001b[0m\u001b[0mx\u001b[0m \u001b[1;33m=\u001b[0m\u001b[1;34m'Unemployment_Rate'\u001b[0m\u001b[1;33m,\u001b[0m \u001b[0my\u001b[0m\u001b[1;33m=\u001b[0m\u001b[1;34m'Stock_Index_Price'\u001b[0m\u001b[1;33m,\u001b[0m \u001b[0mkind\u001b[0m \u001b[1;33m=\u001b[0m \u001b[1;34m'scatter'\u001b[0m\u001b[1;33m)\u001b[0m\u001b[1;33m\u001b[0m\u001b[1;33m\u001b[0m\u001b[0m\n\u001b[0;32m     10\u001b[0m \u001b[0mplt\u001b[0m\u001b[1;33m.\u001b[0m\u001b[0mshow\u001b[0m\u001b[1;33m(\u001b[0m\u001b[1;33m)\u001b[0m\u001b[1;33m\u001b[0m\u001b[1;33m\u001b[0m\u001b[0m\n",
      "\u001b[1;32m~\\Anaconda3\\lib\\site-packages\\pandas\\__init__.py\u001b[0m in \u001b[0;36m__getattr__\u001b[1;34m(name)\u001b[0m\n\u001b[0;32m    261\u001b[0m             \u001b[1;32mreturn\u001b[0m \u001b[0m_SparseArray\u001b[0m\u001b[1;33m\u001b[0m\u001b[1;33m\u001b[0m\u001b[0m\n\u001b[0;32m    262\u001b[0m \u001b[1;33m\u001b[0m\u001b[0m\n\u001b[1;32m--> 263\u001b[1;33m         \u001b[1;32mraise\u001b[0m \u001b[0mAttributeError\u001b[0m\u001b[1;33m(\u001b[0m\u001b[1;34mf\"module 'pandas' has no attribute '{name}'\"\u001b[0m\u001b[1;33m)\u001b[0m\u001b[1;33m\u001b[0m\u001b[1;33m\u001b[0m\u001b[0m\n\u001b[0m\u001b[0;32m    264\u001b[0m \u001b[1;33m\u001b[0m\u001b[0m\n\u001b[0;32m    265\u001b[0m \u001b[1;33m\u001b[0m\u001b[0m\n",
      "\u001b[1;31mAttributeError\u001b[0m: module 'pandas' has no attribute 'archive'"
     ]
    }
   ],
   "source": [
    "#3 \n",
    "import pandas as pd\n",
    "import matplotlib.pyplot as plt\n",
    "   \n",
    "df = pd.read_csv(\"archive.csv\", encoding =\"ISO-8859-1\", header=1)\n",
    "df = df.fillna(0)\n",
    "\n",
    "df = pd.archive(data,columns=[])\n",
    "df.plot(x ='Unemployment_Rate', y='Stock_Index_Price', kind = 'scatter')\n",
    "plt.show()\n"
   ]
  },
  {
   "cell_type": "code",
   "execution_count": null,
   "metadata": {},
   "outputs": [],
   "source": []
  }
 ]
}